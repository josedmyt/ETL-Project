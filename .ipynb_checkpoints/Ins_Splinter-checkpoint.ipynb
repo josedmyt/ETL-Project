{
 "cells": [
  {
   "cell_type": "code",
   "execution_count": 46,
   "metadata": {},
   "outputs": [],
   "source": [
    "from splinter import Browser\n",
    "from bs4 import BeautifulSoup\n",
    "import pandas as pd\n",
    "from sqlalchemy import create_engine"
   ]
  },
  {
   "cell_type": "code",
   "execution_count": 2,
   "metadata": {},
   "outputs": [],
   "source": [
    "executable_path = {'executable_path': 'chromedriver.exe'}\n",
    "browser = Browser('chrome', **executable_path, headless=False)"
   ]
  },
  {
   "cell_type": "code",
   "execution_count": 3,
   "metadata": {},
   "outputs": [],
   "source": [
    "url = 'https://www.indeed.ca/'\n",
    "browser.visit(url)"
   ]
  },
  {
   "cell_type": "code",
   "execution_count": 4,
   "metadata": {},
   "outputs": [],
   "source": [
    "browser.fill('q', 'data analyst')"
   ]
  },
  {
   "cell_type": "code",
   "execution_count": 5,
   "metadata": {},
   "outputs": [],
   "source": [
    "button=browser.find_by_text('Find Jobs')\n",
    "button.click()"
   ]
  },
  {
   "cell_type": "code",
   "execution_count": 6,
   "metadata": {},
   "outputs": [],
   "source": [
    "html = browser.html\n",
    "soup = BeautifulSoup(html, 'html.parser')"
   ]
  },
  {
   "cell_type": "code",
   "execution_count": 8,
   "metadata": {},
   "outputs": [],
   "source": [
    "title=[]\n",
    "company=[]\n",
    "salary=[]\n",
    "location=[]\n",
    "summary=[]\n",
    "date=[]\n",
    "\n",
    "for x in range(10):\n",
    "    \n",
    "    job_postings=[]\n",
    "    job_postings = soup.find_all('div', class_='jobsearch-SerpJobCard')\n",
    "\n",
    "    for job_posting in job_postings:\n",
    "        title_search = job_posting.find('h2',class_='title').find('a', class_='jobtitle turnstileLink')\n",
    "        title.append(title_search['title'])\n",
    "        \n",
    "        company_search= job_posting.find('div', class_='sjcl').find('div').find('span').text\n",
    "        company.append(company_search.strip('\\n'))  \n",
    "        \n",
    "        location_search=job_posting.find('div', class_='sjcl').find(class_= 'location accessible-contrast-color-location').text\n",
    "        location.append(location_search)\n",
    "        \n",
    "        summary_search=job_posting.find('div', class_='summary').find('ul')\n",
    "        summary.append(summary_search.text.strip('\\n'))\n",
    "        \n",
    "        try:\n",
    "            salary_search=job_posting.find('div', class_='salarySnippet').find('span', class_='salary no-wrap').find('span', class_='salaryText').text\n",
    "        except AttributeError:\n",
    "            salary_search= \"N/A\"\n",
    "        salary.append(salary_search.strip('\\n'))\n",
    "        \n",
    "        date_search=job_posting.find('div', class_='jobsearch-SerpJobCard-footer').find('div', class_='jobsearch-SerpJobCard-footerActions').find('div', class_='result-link-bar-container').find('span', class_='date').text\n",
    "        date.append(date_search)\n",
    "        \n",
    "    try: \n",
    "        browser.find_by_css('.np').click()   \n",
    "    except ElementClickInterceptedException :\n",
    "        browser.find_by_css('.popover').click()   \n",
    "        browser.find_by_css('.np').click()   \n",
    "        \n",
    "    "
   ]
  },
  {
   "cell_type": "code",
   "execution_count": 17,
   "metadata": {},
   "outputs": [
    {
     "name": "stdout",
     "output_type": "stream",
     "text": [
      "Done Scrapping\n",
      "280\n"
     ]
    }
   ],
   "source": [
    "print(\"Done Scrapping\")\n",
    "print(len(title))"
   ]
  },
  {
   "cell_type": "code",
   "execution_count": 54,
   "metadata": {},
   "outputs": [],
   "source": [
    "table= pd.DataFrame({\"job_title\":title,\"company\": company, \"location\":location, \"salary\":salary, \"date\": date, \"summary\":summary})"
   ]
  },
  {
   "cell_type": "code",
   "execution_count": 55,
   "metadata": {},
   "outputs": [],
   "source": [
    "table=table.reset_index(drop=False)\n",
    "table=table.rename(columns={\"index\":\"id\"})\n",
    "table=table.set_index(\"id\", drop=True)"
   ]
  },
  {
   "cell_type": "code",
   "execution_count": 56,
   "metadata": {},
   "outputs": [],
   "source": [
    "connection_string = \"postgres:jose1110@localhost:5432/indeed_db\"\n",
    "engine = create_engine(f'postgresql://{connection_string}')"
   ]
  },
  {
   "cell_type": "code",
   "execution_count": 57,
   "metadata": {},
   "outputs": [
    {
     "data": {
      "text/plain": [
       "['indeed_postings']"
      ]
     },
     "execution_count": 57,
     "metadata": {},
     "output_type": "execute_result"
    }
   ],
   "source": [
    "engine.table_names()"
   ]
  },
  {
   "cell_type": "code",
   "execution_count": 58,
   "metadata": {},
   "outputs": [],
   "source": [
    "table.to_sql(name='indeed_postings', con=engine, if_exists='append', index=True)"
   ]
  },
  {
   "cell_type": "code",
   "execution_count": null,
   "metadata": {},
   "outputs": [],
   "source": []
  }
 ],
 "metadata": {
  "kernelspec": {
   "display_name": "Python 3",
   "language": "python",
   "name": "python3"
  },
  "language_info": {
   "codemirror_mode": {
    "name": "ipython",
    "version": 3
   },
   "file_extension": ".py",
   "mimetype": "text/x-python",
   "name": "python",
   "nbconvert_exporter": "python",
   "pygments_lexer": "ipython3",
   "version": "3.6.10"
  },
  "varInspector": {
   "cols": {
    "lenName": 16,
    "lenType": 16,
    "lenVar": 40
   },
   "kernels_config": {
    "python": {
     "delete_cmd_postfix": "",
     "delete_cmd_prefix": "del ",
     "library": "var_list.py",
     "varRefreshCmd": "print(var_dic_list())"
    },
    "r": {
     "delete_cmd_postfix": ") ",
     "delete_cmd_prefix": "rm(",
     "library": "var_list.r",
     "varRefreshCmd": "cat(var_dic_list()) "
    }
   },
   "types_to_exclude": [
    "module",
    "function",
    "builtin_function_or_method",
    "instance",
    "_Feature"
   ],
   "window_display": false
  }
 },
 "nbformat": 4,
 "nbformat_minor": 2
}
