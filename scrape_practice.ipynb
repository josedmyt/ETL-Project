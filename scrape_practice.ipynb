{
 "cells": [
  {
   "cell_type": "code",
   "execution_count": 44,
   "metadata": {},
   "outputs": [],
   "source": [
    "from splinter import Browser\n",
    "from bs4 import BeautifulSoup"
   ]
  },
  {
   "cell_type": "code",
   "execution_count": 45,
   "metadata": {},
   "outputs": [
    {
     "name": "stdout",
     "output_type": "stream",
     "text": [
      "/usr/local/bin/chromedriver\r\n"
     ]
    }
   ],
   "source": [
    "!which chromedriver"
   ]
  },
  {
   "cell_type": "code",
   "execution_count": 46,
   "metadata": {},
   "outputs": [],
   "source": [
    "executable_path = {'executable_path': '/usr/local/bin/chromedriver'}\n",
    "browser = Browser('chrome', **executable_path, headless=False)"
   ]
  },
  {
   "cell_type": "code",
   "execution_count": 49,
   "metadata": {},
   "outputs": [],
   "source": [
    "url = 'https://ca.indeed.com/'\n",
    "browser.visit(url)\n",
    "job_search = browser.find_by_id('text-input-what').fill(\"Data Analyst\")\n",
    "button=browser.find_by_text('Find Jobs')\n",
    "button.click()"
   ]
  },
  {
   "cell_type": "code",
   "execution_count": 63,
   "metadata": {},
   "outputs": [
    {
     "data": {
      "text/plain": [
       "<div class=\"jobsearch-SerpJobCard unifiedRow row result clickcard\" data-ci=\"336199156\" data-empn=\"4278979110697893\" data-jk=\"c80a644ceedc85a9\" id=\"pj_c80a644ceedc85a9\">\n",
       "<style>\n",
       ".jobcard_logo{margin:6px 0}.jobcard_logo img{width:auto;max-width:80px;max-height:30px}\n",
       "</style>\n",
       "<h2 class=\"title\">\n",
       "<a class=\"jobtitle turnstileLink\" data-tn-element=\"jobTitle\" href=\"/pagead/clk?mo=r&amp;ad=-6NYlbfkN0CJHXnnpfhmPi5VwoZMg-7cRfzluE2hM0HqmmiuLyKU8V8zlNt78nH0e0n25d06tCD_YnEyQYnfObLp2iegHVjEtOf2bSZDb033rGlaJx0Q-Kx4LmD9LhsNDASmjqAyON2ZFY-hY5zd4v3cgbimsfT3IyWRbWrrKr0qax4YgagUxsumAK3rKm8RPrbce4ak8fVL2QATbrd-XAo2QRAJ-f3obZ6PizrK8G6501jvSgPgjjnBBir788ZosHtfLDYZj99H3zuDYlzdG1JfzjIoPh_7vi2KTTJ-gMcB2YUPWkfJqv2_qSzACYvFKQPTDz9ctE9-VJJ9JcDayYTrJqPyXOTPQiTb0syoqSlveKUmXOPstRZm-OB3JHV1-2y3egq7A7DLbdmWoGTi-QfXj8dWrU4H3SyBZpNTsBBXtmN5e4384c3T6VIPJw4ppePS2WuT4ws=&amp;p=1&amp;fvj=1&amp;vjs=3\" id=\"sja1\" onclick=\"setRefineByCookie([]); sjoc('sja1', 0); convCtr('SJ'); rclk(this,jobmap[1],true,0);\" onmousedown=\"sjomd('sja1'); clk('sja1'); rclk(this,jobmap[1],0);\" rel=\"noopener nofollow\" target=\"_blank\" title=\"Web Data Analyst\">\n",
       "Web Data Analyst</a>\n",
       "</h2>\n",
       "<div class=\"sjcl\">\n",
       "<div>\n",
       "<span class=\"company\">\n",
       "Investing News Network</span>\n",
       "</div>\n",
       "<div class=\"recJobLoc\" data-rc-loc=\"Toronto, ON\" id=\"recJobLoc_c80a644ceedc85a9\" style=\"display: none\"></div>\n",
       "<div class=\"location accessible-contrast-color-location\">Toronto, ON</div>\n",
       "</div>\n",
       "<table class=\"jobCardShelfContainer\"><tbody><tr class=\"jobCardShelf\"><td class=\"jobCardShelfItem indeedApply\"><span class=\"jobCardShelfIcon\"><svg fill=\"none\" height=\"16\" viewbox=\"0 0 20 20\" width=\"16\"><rect fill=\"#FF5A1F\" height=\"20\" rx=\"10\" width=\"20\"></rect><path clip-rule=\"evenodd\" d=\"M15.3125 4.0625L10.8125 15.3125L7.99999 11.375L15.3125 4.0625ZM7.604 12.7576L6.875 15.3125L8.567 14.1054L7.604 12.7576ZM7.20463 10.5796L12.419 5.36525L4.0625 9.125L6.9875 10.7968L7.20463 10.5796Z\" fill=\"white\" fill-rule=\"evenodd\"></path></svg></span><span class=\"iaLabel iaIconActive\">Easily apply</span></td></tr></tbody></table><div class=\"summary\">\n",
       "<ul style=\"list-style-type:circle;margin-top: 0px;margin-bottom: 0px;padding-left:20px;\">\n",
       "<li style=\"margin-bottom:0px;\">Ability to construct complex SQL queries or write automated scripts for testing and analysis.</li>\n",
       "<li>A passion for empirical research and answering hard questions with…</li>\n",
       "</ul></div>\n",
       "<div class=\"jobsearch-SerpJobCard-footer\">\n",
       "<div class=\"jobsearch-SerpJobCard-footerActions\">\n",
       "<div class=\"result-link-bar-container\">\n",
       "<div class=\"result-link-bar\"><span class=\"sponsoredGray\">Sponsored</span><span class=\"result-link-bar-separator hide-sponsored-separator\">·</span><span class=\"date\">30+ days ago</span><span class=\"tt_set\" id=\"tt_set_1\"><span class=\"result-link-bar-separator\">·</span><a class=\"sl resultLink save-job-link\" href=\"#\" id=\"sj_c80a644ceedc85a9\" onclick=\"changeJobState('c80a644ceedc85a9', 'save', 'linkbar', true, ''); return false;\" title=\"Save this job to my.indeed\">Save job</a></span><div class=\"edit_note_content\" id=\"editsaved2_c80a644ceedc85a9\" style=\"display:none;\"></div><script>if (!window['sj_result_c80a644ceedc85a9']) {window['sj_result_c80a644ceedc85a9'] = {};}window['sj_result_c80a644ceedc85a9']['showSource'] = false; window['sj_result_c80a644ceedc85a9']['source'] = \"Indeed\"; window['sj_result_c80a644ceedc85a9']['loggedIn'] = false; window['sj_result_c80a644ceedc85a9']['showMyJobsLinks'] = false;window['sj_result_c80a644ceedc85a9']['undoAction'] = \"unsave\";window['sj_result_c80a644ceedc85a9']['relativeJobAge'] = \"30+ days ago\";window['sj_result_c80a644ceedc85a9']['jobKey'] = \"c80a644ceedc85a9\"; window['sj_result_c80a644ceedc85a9']['myIndeedAvailable'] = true; window['sj_result_c80a644ceedc85a9']['showMoreActionsLink'] = window['sj_result_c80a644ceedc85a9']['showMoreActionsLink'] || false; window['sj_result_c80a644ceedc85a9']['resultNumber'] = 1; window['sj_result_c80a644ceedc85a9']['jobStateChangedToSaved'] = false; window['sj_result_c80a644ceedc85a9']['searchState'] = \"q=Data Analyst&amp;l=Toronto%2C+ON\"; window['sj_result_c80a644ceedc85a9']['basicPermaLink'] = \"https://ca.indeed.com\"; window['sj_result_c80a644ceedc85a9']['saveJobFailed'] = false; window['sj_result_c80a644ceedc85a9']['removeJobFailed'] = false; window['sj_result_c80a644ceedc85a9']['requestPending'] = false; window['sj_result_c80a644ceedc85a9']['notesEnabled'] = false; window['sj_result_c80a644ceedc85a9']['currentPage'] = \"serp\"; window['sj_result_c80a644ceedc85a9']['sponsored'] = true;window['sj_result_c80a644ceedc85a9']['showSponsor'] = true;window['sj_result_c80a644ceedc85a9']['reportJobButtonEnabled'] = false; window['sj_result_c80a644ceedc85a9']['showMyJobsHired'] = false; window['sj_result_c80a644ceedc85a9']['showSaveForSponsored'] = true; window['sj_result_c80a644ceedc85a9']['showJobAge'] = true; window['sj_result_c80a644ceedc85a9']['showHolisticCard'] = true; window['sj_result_c80a644ceedc85a9']['showDislike'] = false; window['sj_result_c80a644ceedc85a9']['showKebab'] = false;</script></div></div>\n",
       "</div>\n",
       "</div>\n",
       "<div class=\"tab-container\">\n",
       "<div class=\"sign-in-container result-tab\"></div>\n",
       "<div class=\"tellafriend-container result-tab email_job_content\"></div>\n",
       "</div>\n",
       "</div>"
      ]
     },
     "execution_count": 63,
     "metadata": {},
     "output_type": "execute_result"
    }
   ],
   "source": [
    "posting = soup.find_all('div', class_='jobsearch-SerpJobCard unifiedRow row result clickcard')\n",
    "posting[1]"
   ]
  },
  {
   "cell_type": "code",
   "execution_count": 58,
   "metadata": {},
   "outputs": [
    {
     "name": "stdout",
     "output_type": "stream",
     "text": [
      "\n",
      "\n",
      "Programmer Analyst\n",
      "\n",
      "\n",
      "\n",
      "Web Data Analyst\n",
      "\n",
      "\n",
      "\n",
      "Business Analyst\n",
      "\n",
      "\n",
      "\n",
      "Junior Analyst\n",
      "\n",
      "\n",
      "\n",
      "Bilingual Quality Analyst\n",
      "\n",
      "\n",
      "\n",
      "Business and Data Analyst\n",
      "\n",
      "\n",
      "\n",
      "Analyst- Static Data- 12 months contract\n",
      "\n",
      "\n",
      "\n",
      "Data Systems Analyst\n",
      "\n",
      "\n",
      "\n",
      "Jr. Data/Reporting Analyst\n",
      "\n",
      "\n",
      "\n",
      "IT Data Analyst - Project Manager\n",
      "\n",
      "\n",
      "\n",
      "Data Analyst\n",
      "\n",
      "\n",
      "\n",
      "Data/Application Analyst\n",
      "\n",
      "\n",
      "\n",
      "Data Analyst\n",
      "\n",
      "\n",
      "\n",
      "Business Analyst, Data Insights & Scalability\n",
      "\n",
      "\n",
      "\n",
      "Senior Data Analyst, Marketing Analytics\n",
      "\n",
      "\n",
      "\n",
      "Sr. Data Analyst\n",
      "\n",
      "\n",
      "\n",
      "Junior BI Analyst / SSIS Developer\n",
      "\n"
     ]
    },
    {
     "data": {
      "text/plain": [
       "[<h2 class=\"title\">\n",
       " <a class=\"jobtitle turnstileLink\" data-tn-element=\"jobTitle\" href=\"/pagead/clk?mo=r&amp;ad=-6NYlbfkN0BaHXBWawKMenTKEhG1ChdUxMdl6nAjhWg_ZRNfBEoSfQXBDWxu7-8cL3LyDYJbJI_lx7iXORsEn3hXp5Prn3DdY2fT9QPc9tzYMz4Qy5W7zj_mXPlm2UOCduBJVpKMvW514Np5wKb1REKIZm-bM6YJk4VfUehwDZRydC4DOSIZ_Jnnlny3ktB9WuLaGfvuKaG9-DPLTLj5VFsdVHmCfgorHw4oKCcwqoY6TnsJHgJ2tDeQh0HKLpMRemF2Eriv09MEDV3SB1wXIF51MG3Cl7s7DRV6FSXhGavrowYlSSk9LXNaM0vv4D5WFx9K0hvKfUCyvzFam0JYP9AV9BXMyYUwIaAuvwsaKgY_vyZlecF_eEfauKVvqSz705uD7XBHCqjtAchpZkHn12XODA4rrn1xgph9srJUmUVPZ6bX-y5wvYrTY2pPq2Xw3n-bHqBHx9ke5IZh6WGf_w==&amp;p=0&amp;fvj=1&amp;vjs=3\" id=\"sja0\" onclick=\"setRefineByCookie([]); sjoc('sja0', 1); convCtr('SJ'); rclk(this,jobmap[0],true,1);\" onmousedown=\"sjomd('sja0'); clk('sja0'); rclk(this,jobmap[0],1);\" rel=\"noopener nofollow\" target=\"_blank\" title=\"Programmer Analyst\">\n",
       " Programmer Analyst</a>\n",
       " </h2>, <h2 class=\"title\">\n",
       " <a class=\"jobtitle turnstileLink\" data-tn-element=\"jobTitle\" href=\"/pagead/clk?mo=r&amp;ad=-6NYlbfkN0CJHXnnpfhmPi5VwoZMg-7cRfzluE2hM0HqmmiuLyKU8V8zlNt78nH0e0n25d06tCD_YnEyQYnfObLp2iegHVjEtOf2bSZDb033rGlaJx0Q-Kx4LmD9LhsNDASmjqAyON2ZFY-hY5zd4v3cgbimsfT3IyWRbWrrKr0qax4YgagUxsumAK3rKm8RPrbce4ak8fVL2QATbrd-XAo2QRAJ-f3obZ6PizrK8G6501jvSgPgjjnBBir788ZosHtfLDYZj99H3zuDYlzdG1JfzjIoPh_7vi2KTTJ-gMcB2YUPWkfJqv2_qSzACYvFKQPTDz9ctE9-VJJ9JcDayYTrJqPyXOTPQiTb0syoqSlveKUmXOPstRZm-OB3JHV1-2y3egq7A7DLbdmWoGTi-QfXj8dWrU4H3SyBZpNTsBBXtmN5e4384c3T6VIPJw4ppePS2WuT4ws=&amp;p=1&amp;fvj=1&amp;vjs=3\" id=\"sja1\" onclick=\"setRefineByCookie([]); sjoc('sja1', 0); convCtr('SJ'); rclk(this,jobmap[1],true,0);\" onmousedown=\"sjomd('sja1'); clk('sja1'); rclk(this,jobmap[1],0);\" rel=\"noopener nofollow\" target=\"_blank\" title=\"Web Data Analyst\">\n",
       " Web Data Analyst</a>\n",
       " </h2>, <h2 class=\"title\">\n",
       " <a class=\"jobtitle turnstileLink\" data-tn-element=\"jobTitle\" href=\"/pagead/clk?mo=r&amp;ad=-6NYlbfkN0DekRdUkI2P0Vx7QKQSGKmgwjXZYYsACC-ks-GIUm7I3nL2YUPZmeVkgbuZ7URa-RlBPlsA8twBLCO46vj3JWrUlA8dJ_wfeJctUa0u2tGIncHbi-HvMh-jgavNIm2s9JflDP5D91M2LPVO6AEf6sh0xIHHQPy0Em6VnrrLWAIHw-PgbaEzo7GgVMel3IFpTFLSkf8dA_GlPxBeFmFbaUynqkS5ayN4R6cSmaL7RHNI-5NBVAsSLkLBJU-Pv1gtPUcMnQKz4QxVQjBbR68voF3JO3tMvS7Zjyw-v_K60bsYyKTJMNhDxpKgHLFK6u9FmikO5cofTWFv4L5sOXekoyGMqG4NPk133G4jg9MhgyieZIFbCBMWYZ-KA88F1EnfJYoV5tWG9kph26V10wuSNzkzMvOY3WeYq5UdDtdjbEwnmQGRRMTJUoAimuYI2_MzwyaxmcP0mwe5PH79Vz7SGOyPAL9igROLdi5CsgFiPyfFp3JtWHas4h-gyG4GzhOvKx4jbfo-zkM5wHkkoY8856OImFhenpjJIr-dBCu7C6qTQRjzLuzQYAez7_wNE9OIrB-a12UZrffqcjicfiqyT2cla2Fa-Hk0ONs=&amp;p=2&amp;fvj=0&amp;vjs=3\" id=\"sja2\" onclick=\"setRefineByCookie([]); sjoc('sja2', 0); convCtr('SJ'); rclk(this,jobmap[2],true,0);\" onmousedown=\"sjomd('sja2'); clk('sja2'); rclk(this,jobmap[2],0);\" rel=\"noopener nofollow\" target=\"_blank\" title=\"Business Analyst\">\n",
       " Business Analyst</a>\n",
       " </h2>, <h2 class=\"title\">\n",
       " <a class=\"jobtitle turnstileLink\" data-tn-element=\"jobTitle\" href=\"/pagead/clk?mo=r&amp;ad=-6NYlbfkN0DnzZDUtsBq5dlbqQ2UZE4_57aaJTHejNOUW-K58UET9wfTIQ5FX0cWXBqo_P3750msAipK8NNxfr3hIExfo9i1sMgts2GHuSLSdqP_tXTccr0Oxekyq4wqAMemqK59N8DsBwqA_V9l0Cn7dDBQuWLg7eAX5ZMqrl2oO1kIR7h-Tju4PTwcao9P5VONR9JOJ0l3Jq52gFY08KpdYuhE5O8KFqMAQPN7U0rTSnVlHtqSjgANTgaBgSeMhRZztZlE8tToZJZxEg1k_JlaPl3N_ZnM94LCnNu_YQ2yCET2rO6gE4EClg2wymyRNG_lEBxJD81FxJ7dAhMcuJDcfwIk_S9omm5INGVx974CUliGpm-yfBtBT728e8gbpWBSPYOZeXz0RutCSquMnspEXUYbiiIsxbcEV0wQ7r5rPEd-wm7NzH_iacZQFxMigdBNHfq9gXKwC7bEWnmy1nqLPGSvI1L-&amp;p=3&amp;fvj=0&amp;vjs=3\" id=\"sja3\" onclick=\"setRefineByCookie([]); sjoc('sja3', 1); convCtr('SJ'); rclk(this,jobmap[3],true,1);\" onmousedown=\"sjomd('sja3'); clk('sja3'); rclk(this,jobmap[3],1);\" rel=\"noopener nofollow\" target=\"_blank\" title=\"Junior Analyst\">\n",
       " Junior Analyst</a>\n",
       " </h2>, <h2 class=\"title\">\n",
       " <a class=\"jobtitle turnstileLink\" data-tn-element=\"jobTitle\" href=\"/pagead/clk?mo=r&amp;ad=-6NYlbfkN0CFEFq6FeGXvsZRg9w0SJ3Lr-fbafWaLoFi_K7f9Jc0FMtzL7_3R9AcYDLy4wyF_9GHCLnPe6lQDre93nDPmkJ1N9bR3qGCymCygswQtmAiS8_-zrLpETjfGQH_YdD6m2R10-EyFrsP9tJSV7VCWDeAF-_DP_l3Y5E5EgIe0-2g4XHhGw6zw8UJFx2ht4LSm71SzyTrBeGWraqXKGhl4JkQVhb-yxkMnFfT5wokVR4lM4T4NbzyA7asSFnMOmnd_4opCJrg0Bb0hROQIGypvAmLaiXaMFUobYwNoSI6fbC48mTxvzVNhe-tbX446RTNWXPTAL466zFRorsMH6nh4demb3zEyi9h4HlV_Snb2exES3PFfv5eJ1Su7ALEahE8ypTwtE9HboAYigMt6mZYm0R71Garf794PA-Vaf5hgCk3Qui8DLSGIR5RX0GkeYaEWbQKrlnKlFNTskkQ99kqWiNAtzKMVjFuhVY=&amp;p=4&amp;fvj=1&amp;vjs=3\" id=\"sja4\" onclick=\"setRefineByCookie([]); sjoc('sja4', 0); convCtr('SJ'); rclk(this,jobmap[4],true,0);\" onmousedown=\"sjomd('sja4'); clk('sja4'); rclk(this,jobmap[4],0);\" rel=\"noopener nofollow\" target=\"_blank\" title=\"Bilingual Quality Analyst\">\n",
       " Bilingual Quality Analyst</a>\n",
       " </h2>, <h2 class=\"title\">\n",
       " <a class=\"jobtitle turnstileLink\" data-tn-element=\"jobTitle\" href=\"/pagead/clk?mo=r&amp;ad=-6NYlbfkN0DQJz7F5pYXtNF4IaU0ZfA5rElvXSgmp9avjAS790l6iafoHmxvQdWNDtrq98sAt7cqZGkSoq1PzyeByakrwfxcSwfBvdnyQt7-JSWAqND5DfuMryOR_YOhOtrsrjdBWi_6_NGLYEEdKY_n5eUpRKjqM9MmV_EP2EDwvNO8KPTovOV8ZUcf8fnwjGdG0VHc3dOGZRFNDNhHXpvspXYcKp6O4z24rZhde1aDW4PQRcIGp_sRxAODghWOwPjlOpLWk8JgH8mhfQP37b4mFDTtIwePJni-khZD0j__KTT6OlcUp9aNIsS_ttPIRfADN2RGp3Zr0OeubtXoiEOWcEHtx_1uklG2KchSkQ1gur_9nNc3L-2H0O2D6FBdIsF9h7EdP0Y2RpyAPRPeT7UX6kgD1_HE_BmMELAmH8O9CFi6HIT7mvPsUG5pRQx9eVRmsjIXKZpvwOQYydjS37qUPEPWnNeGlQa2yelGJZY=&amp;p=5&amp;fvj=1&amp;vjs=3\" id=\"sja5\" onclick=\"setRefineByCookie([]); sjoc('sja5', 1); convCtr('SJ'); rclk(this,jobmap[5],true,1);\" onmousedown=\"sjomd('sja5'); clk('sja5'); rclk(this,jobmap[5],1);\" rel=\"noopener nofollow\" target=\"_blank\" title=\"Business and Data Analyst\">\n",
       " Business and Data Analyst</a>\n",
       " </h2>, <h2 class=\"title\">\n",
       " <a class=\"jobtitle turnstileLink\" data-tn-element=\"jobTitle\" href=\"/rc/clk?jk=26c3b682e8207a74&amp;fccid=3002307a9e5b4706&amp;vjs=3\" id=\"jl_26c3b682e8207a74\" onclick=\"setRefineByCookie([]); return rclk(this,jobmap[6],true,0);\" onmousedown=\"return rclk(this,jobmap[6],0);\" rel=\"noopener nofollow\" target=\"_blank\" title=\"Analyst- Static Data- 12 months contract\">\n",
       " Analyst- Static Data- 12 months contract</a>\n",
       " </h2>, <h2 class=\"title\">\n",
       " <a class=\"jobtitle turnstileLink\" data-tn-element=\"jobTitle\" href=\"/rc/clk?jk=5244b8f23cf17f80&amp;fccid=883aa815594ccefd&amp;vjs=3\" id=\"jl_5244b8f23cf17f80\" onclick=\"setRefineByCookie([]); return rclk(this,jobmap[7],true,0);\" onmousedown=\"return rclk(this,jobmap[7],0);\" rel=\"noopener nofollow\" target=\"_blank\" title=\"Data Systems Analyst\">\n",
       " Data Systems Analyst</a>\n",
       " </h2>, <h2 class=\"title\">\n",
       " <a class=\"jobtitle turnstileLink\" data-tn-element=\"jobTitle\" href=\"/rc/clk?jk=2eb25392f65571fd&amp;fccid=ca1eb7a6353c159a&amp;vjs=3\" id=\"jl_2eb25392f65571fd\" onclick=\"setRefineByCookie([]); return rclk(this,jobmap[8],true,0);\" onmousedown=\"return rclk(this,jobmap[8],0);\" rel=\"noopener nofollow\" target=\"_blank\" title=\"Jr. Data/Reporting Analyst\">\n",
       " Jr. Data/Reporting Analyst</a>\n",
       " </h2>, <h2 class=\"title\">\n",
       " <a class=\"jobtitle turnstileLink\" data-tn-element=\"jobTitle\" href=\"/company/AstraNorth/jobs/IT-Data-Analyst-1d25caa98f4b0291?fccid=8116154355837827&amp;vjs=3\" id=\"jl_1d25caa98f4b0291\" onclick=\"setRefineByCookie([]); return rclk(this,jobmap[9],true,0);\" onmousedown=\"return rclk(this,jobmap[9],0);\" rel=\"noopener nofollow\" target=\"_blank\" title=\"IT Data Analyst - Project Manager\">\n",
       " IT Data Analyst - Project Manager</a>\n",
       " </h2>, <h2 class=\"title\">\n",
       " <a class=\"jobtitle turnstileLink\" data-tn-element=\"jobTitle\" href=\"/rc/clk?jk=4e4e82f7557b8df8&amp;fccid=af33012bc464ab62&amp;vjs=3\" id=\"jl_4e4e82f7557b8df8\" onclick=\"setRefineByCookie([]); return rclk(this,jobmap[10],true,0);\" onmousedown=\"return rclk(this,jobmap[10],0);\" rel=\"noopener nofollow\" target=\"_blank\" title=\"Data Analyst\">\n",
       " Data Analyst</a>\n",
       " </h2>, <h2 class=\"title\">\n",
       " <a class=\"jobtitle turnstileLink\" data-tn-element=\"jobTitle\" href=\"/rc/clk?jk=03946f7e501a6b3d&amp;fccid=dc380d4a81d4459b&amp;vjs=3\" id=\"jl_03946f7e501a6b3d\" onclick=\"setRefineByCookie([]); return rclk(this,jobmap[11],true,0);\" onmousedown=\"return rclk(this,jobmap[11],0);\" rel=\"noopener nofollow\" target=\"_blank\" title=\"Data/Application Analyst\">\n",
       " Data/Application Analyst</a>\n",
       " </h2>, <h2 class=\"title\">\n",
       " <a class=\"jobtitle turnstileLink\" data-tn-element=\"jobTitle\" href=\"/company/McAsphalt-Industries/jobs/Data-Analyst-f57f0a7058e6e21c?fccid=17eaa6fbcf2e6ba9&amp;vjs=3\" id=\"jl_f57f0a7058e6e21c\" onclick=\"setRefineByCookie([]); return rclk(this,jobmap[12],true,0);\" onmousedown=\"return rclk(this,jobmap[12],0);\" rel=\"noopener nofollow\" target=\"_blank\" title=\"Data Analyst\">\n",
       " Data Analyst</a>\n",
       " </h2>, <h2 class=\"title\">\n",
       " <a class=\"jobtitle turnstileLink\" data-tn-element=\"jobTitle\" href=\"/rc/clk?jk=fff7ec63b91bffc6&amp;fccid=4027cfd917e1ee29&amp;vjs=3\" id=\"jl_fff7ec63b91bffc6\" onclick=\"setRefineByCookie([]); return rclk(this,jobmap[13],true,0);\" onmousedown=\"return rclk(this,jobmap[13],0);\" rel=\"noopener nofollow\" target=\"_blank\" title=\"Business Analyst, Data Insights &amp; Scalability\">\n",
       " Business Analyst, Data Insights &amp; Scalability</a>\n",
       " </h2>, <h2 class=\"title\">\n",
       " <a class=\"jobtitle turnstileLink\" data-tn-element=\"jobTitle\" href=\"/rc/clk?jk=464cfb2e68642e80&amp;fccid=d9424d2494bb17e7&amp;vjs=3\" id=\"jl_464cfb2e68642e80\" onclick=\"setRefineByCookie([]); return rclk(this,jobmap[14],true,0);\" onmousedown=\"return rclk(this,jobmap[14],0);\" rel=\"noopener nofollow\" target=\"_blank\" title=\"Senior Data Analyst, Marketing Analytics\">\n",
       " Senior Data Analyst, Marketing Analytics</a>\n",
       " </h2>, <h2 class=\"title\">\n",
       " <a class=\"jobtitle turnstileLink\" data-tn-element=\"jobTitle\" href=\"/rc/clk?jk=233d1f49e87b339d&amp;fccid=d7114f1cac8d0711&amp;vjs=3\" id=\"jl_233d1f49e87b339d\" onclick=\"setRefineByCookie([]); return rclk(this,jobmap[15],true,0);\" onmousedown=\"return rclk(this,jobmap[15],0);\" rel=\"noopener nofollow\" target=\"_blank\" title=\"Sr. Data Analyst\">\n",
       " Sr. Data Analyst</a>\n",
       " </h2>, <h2 class=\"title\">\n",
       " <a class=\"jobtitle turnstileLink\" data-tn-element=\"jobTitle\" href=\"/pagead/clk?mo=r&amp;ad=-6NYlbfkN0DfaJzxeKsHg3yNa09Lu8cQQduvjegwzxl5yjE4sdO8aCQ7r433WSCgz7HcYFllrIDfgQQ_adGzVIav1n_dsev-oE0MtdN_gVVXu-c1zXSVrPrT0dGeMzfh1qIGDpjrqddYfp2N_AmaP2aKFWo3HN0lmJggv1P4Iz8YFXyUjPmWDYO-Lsdrm-EJEWL9fg8-oyHcmdvapRk-l_oXcX8epMHj7h2oSN0JAnnaAl5w4B0oGZy9kgXovjOkZoO84KGn6KsGiic2xCzuo9PV6as2glPJJwyWYO84tVXDOpZk6Oh1FCqQWJyEeCDWDjAFnRBZ4B_e4W8MA5OIt8KMK5PidUQsiNVfYkRGOsVqs00-T4pzcdBcDqM9CxIz022o8HnQwI_q-pqADZslRoY66T6h3m2ouE7m95e8tQde7d_NZZKBHOBkZaEpbOCiDlLN09ZdugUPByjzzbavyDxUCy5tgQLdNnOyVRqpjfKo4iin786SltyOsj8zU5TgDAZzc4gecFY4kt2SJE2aakJuDTMpu5aDAjUv2jsuO5xJXTHuNEIjxQ==&amp;p=16&amp;fvj=0&amp;vjs=3\" id=\"sja16\" onclick=\"setRefineByCookie([]); sjoc('sja16', 0); convCtr('SJ'); rclk(this,jobmap[16],true,0);\" onmousedown=\"sjomd('sja16'); clk('sja16'); rclk(this,jobmap[16],0);\" rel=\"noopener nofollow\" target=\"_blank\" title=\"Junior BI Analyst / SSIS Developer\">\n",
       " Junior BI Analyst / SSIS Developer</a>\n",
       " </h2>]"
      ]
     },
     "execution_count": 58,
     "metadata": {},
     "output_type": "execute_result"
    }
   ],
   "source": [
    "posting = soup.find_all('h2', class_='title')\n",
    "\n",
    "for job in posting:\n",
    "    print (job.text)\n",
    "posting[0]"
   ]
  },
  {
   "cell_type": "code",
   "execution_count": null,
   "metadata": {},
   "outputs": [],
   "source": []
  },
  {
   "cell_type": "code",
   "execution_count": 34,
   "metadata": {},
   "outputs": [],
   "source": [
    "\n"
   ]
  },
  {
   "cell_type": "code",
   "execution_count": null,
   "metadata": {},
   "outputs": [],
   "source": []
  },
  {
   "cell_type": "code",
   "execution_count": null,
   "metadata": {},
   "outputs": [],
   "source": []
  },
  {
   "cell_type": "code",
   "execution_count": null,
   "metadata": {},
   "outputs": [],
   "source": []
  }
 ],
 "metadata": {
  "kernelspec": {
   "display_name": "Python 3",
   "language": "python",
   "name": "python3"
  },
  "language_info": {
   "codemirror_mode": {
    "name": "ipython",
    "version": 3
   },
   "file_extension": ".py",
   "mimetype": "text/x-python",
   "name": "python",
   "nbconvert_exporter": "python",
   "pygments_lexer": "ipython3",
   "version": "3.7.4"
  }
 },
 "nbformat": 4,
 "nbformat_minor": 2
}
