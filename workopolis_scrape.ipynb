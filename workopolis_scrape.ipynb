{
 "cells": [
  {
   "cell_type": "code",
   "execution_count": 1,
   "metadata": {},
   "outputs": [],
   "source": [
    "from splinter import Browser\n",
    "from bs4 import BeautifulSoup\n",
    "import pandas as pd\n",
    "from sqlalchemy import create_engine\n",
    "import numpy as np"
   ]
  },
  {
   "cell_type": "code",
   "execution_count": 2,
   "metadata": {},
   "outputs": [],
   "source": [
    "executable_path = {'executable_path': '/usr/local/bin/chromedriver'}\n",
    "browser = Browser('chrome', **executable_path, headless=False)"
   ]
  },
  {
   "cell_type": "code",
   "execution_count": 154,
   "metadata": {},
   "outputs": [],
   "source": [
    "url = 'https://www.workopolis.com/en/'\n",
    "browser.visit(url)\n",
    "job_search = browser.find_by_id('keyword').fill(\"Data Analyst\")\n",
    "button=browser.find_by_text('Find Jobs')\n",
    "button.click()\n"
   ]
  },
  {
   "cell_type": "code",
   "execution_count": 14,
   "metadata": {},
   "outputs": [],
   "source": [
    "html = browser.html\n",
    "soup = BeautifulSoup(html, 'html.parser')"
   ]
  },
  {
   "cell_type": "code",
   "execution_count": 135,
   "metadata": {},
   "outputs": [],
   "source": [
    "job_postings = soup.find_all('article', class_='JobCard')\n"
   ]
  },
  {
   "cell_type": "code",
   "execution_count": 136,
   "metadata": {},
   "outputs": [
    {
     "data": {
      "text/plain": [
       "29"
      ]
     },
     "execution_count": 136,
     "metadata": {},
     "output_type": "execute_result"
    }
   ],
   "source": [
    "len(job_postings)"
   ]
  },
  {
   "cell_type": "code",
   "execution_count": 139,
   "metadata": {},
   "outputs": [],
   "source": [
    "job_title=[]\n",
    "company_name=[]\n",
    "job_location=[]\n",
    "job_salary = []\n",
    "job_summary = []\n",
    "\n",
    "for posting in job_postings:\n",
    "    title = posting.find('h2', class_='JobCard-title').text\n",
    "    job_title.append(title)\n",
    "    \n",
    "    \n",
    "    company = posting.find('div', class_='JobCard-property JobCard-company').find('span').text\n",
    "    company_name.append(company)\n",
    "    \n",
    "    location1 = posting.find('span', class_='JobCard-property JobCard-location').find('span').text\n",
    "    location = location1.split('\\xa0—\\xa0')[1]\n",
    "    job_location.append(location)\n",
    "    \n",
    "    salary = posting.find('span', class_='Salary').text\n",
    "    job_salary.append(salary)\n",
    "    \n",
    "    summary = posting.find('div', class_='JobCard-snippet').text\n",
    "    job_summary.append(summary)\n",
    "\n"
   ]
  },
  {
   "cell_type": "code",
   "execution_count": 141,
   "metadata": {},
   "outputs": [
    {
     "data": {
      "text/plain": [
       "29"
      ]
     },
     "execution_count": 141,
     "metadata": {},
     "output_type": "execute_result"
    }
   ],
   "source": []
  },
  {
   "cell_type": "code",
   "execution_count": 238,
   "metadata": {},
   "outputs": [
    {
     "name": "stdout",
     "output_type": "stream",
     "text": [
      "page: 1 -------------\n",
      "['QC Analyst', 'Senior Systems Analyst (Microsoft Dynamics 365)', 'Educational Data Scientist', 'Policy Analyst', 'Systems Analyst I - TELUS Health', 'Junior Analyst', 'Business Process Analyst', 'Business Systems Analyst', 'Reporting Analyst', 'Analyst- Securities Clearing- Securities Settlements', 'Manager, Software Development (Enterprise Core Systems)', 'Senior Information Security Analyst', 'Biotech Scientist', 'Data Scientist, Big Data', 'Research Analyst', 'Programmer Analyst', 'Product Analyst', 'Deputy Director - Principal Data Scientist', 'Data Scientist', 'Business analyst with Unitrax', 'Analyst, Security Operations', 'Investment Analyst - Fixed Income', 'Application Support Analyst', 'Risk Management Analyst', 'Sr. Technical Business Analyst', 'Data Engineer', 'Lab Technician, Pharmaceutical', 'Master Data Analyst', 'Pega Business Technology Analyst']\n",
      "page: 2 -------------\n",
      "['QC Analyst', 'Senior Systems Analyst (Microsoft Dynamics 365)', 'Educational Data Scientist', 'Policy Analyst', 'Systems Analyst I - TELUS Health', 'Junior Analyst', 'Business Process Analyst', 'Business Systems Analyst', 'Reporting Analyst', 'Analyst- Securities Clearing- Securities Settlements', 'Manager, Software Development (Enterprise Core Systems)', 'Senior Information Security Analyst', 'Biotech Scientist', 'Data Scientist, Big Data', 'Research Analyst', 'Programmer Analyst', 'Product Analyst', 'Deputy Director - Principal Data Scientist', 'Data Scientist', 'Business analyst with Unitrax', 'Analyst, Security Operations', 'Investment Analyst - Fixed Income', 'Application Support Analyst', 'Risk Management Analyst', 'Sr. Technical Business Analyst', 'Data Engineer', 'Lab Technician, Pharmaceutical', 'Master Data Analyst', 'Pega Business Technology Analyst', 'Group Leader - Biopharmaceutical Services', 'Web Data Analyst', 'Actuarial Analyst II / Senior Actuarial Analyst', 'Clinical Data Management Senior Business Analyst', 'Senior Analyst, Credit Risk Modelling & Analytics', 'Sr. Data Analyst', 'Data Scientist', 'Technical Analyst', 'Reinsurance Annuity Analyst', 'Business Analyst / Systems Specialist (Student Information Systems)', 'Accounts Payable Analyst - 4+ Month Contract', 'Management information systems consultant', 'Workday analyst', 'Data & Analytics Lead', 'Business Analyst', 'QA Analyst', 'Data Architect', 'Business Systems Analyst', 'Biotech Analyst', 'Reporting Analyst', 'Growth Analyst, Sales & Marketing - Intern', 'Data Engineer II', 'Data Scientist', 'Analyst, Demand Planning', 'Manager Research Analyst', 'Analyst, Marketing Analytics & Insights', 'Materials Analyst', 'Workday HCM Reporting Analyst', 'Group Leader - Cell Biology']\n",
      "page: 3 -------------\n",
      "['QC Analyst', 'Senior Systems Analyst (Microsoft Dynamics 365)', 'Educational Data Scientist', 'Policy Analyst', 'Systems Analyst I - TELUS Health', 'Junior Analyst', 'Business Process Analyst', 'Business Systems Analyst', 'Reporting Analyst', 'Analyst- Securities Clearing- Securities Settlements', 'Manager, Software Development (Enterprise Core Systems)', 'Senior Information Security Analyst', 'Biotech Scientist', 'Data Scientist, Big Data', 'Research Analyst', 'Programmer Analyst', 'Product Analyst', 'Deputy Director - Principal Data Scientist', 'Data Scientist', 'Business analyst with Unitrax', 'Analyst, Security Operations', 'Investment Analyst - Fixed Income', 'Application Support Analyst', 'Risk Management Analyst', 'Sr. Technical Business Analyst', 'Data Engineer', 'Lab Technician, Pharmaceutical', 'Master Data Analyst', 'Pega Business Technology Analyst', 'Group Leader - Biopharmaceutical Services', 'Web Data Analyst', 'Actuarial Analyst II / Senior Actuarial Analyst', 'Clinical Data Management Senior Business Analyst', 'Senior Analyst, Credit Risk Modelling & Analytics', 'Sr. Data Analyst', 'Data Scientist', 'Technical Analyst', 'Reinsurance Annuity Analyst', 'Business Analyst / Systems Specialist (Student Information Systems)', 'Accounts Payable Analyst - 4+ Month Contract', 'Management information systems consultant', 'Workday analyst', 'Data & Analytics Lead', 'Business Analyst', 'QA Analyst', 'Data Architect', 'Business Systems Analyst', 'Biotech Analyst', 'Reporting Analyst', 'Growth Analyst, Sales & Marketing - Intern', 'Data Engineer II', 'Data Scientist', 'Analyst, Demand Planning', 'Manager Research Analyst', 'Analyst, Marketing Analytics & Insights', 'Materials Analyst', 'Workday HCM Reporting Analyst', 'Group Leader - Cell Biology', 'Group Leader - Biopharmaceutical Services', 'Web Data Analyst', 'Actuarial Analyst II / Senior Actuarial Analyst', 'Clinical Data Management Senior Business Analyst', 'Senior Analyst, Credit Risk Modelling & Analytics', 'Sr. Data Analyst', 'Data Scientist', 'Technical Analyst', 'Reinsurance Annuity Analyst', 'Business Analyst / Systems Specialist (Student Information Systems)', 'Accounts Payable Analyst - 4+ Month Contract', 'Management information systems consultant', 'Workday analyst', 'Data & Analytics Lead', 'Business Analyst', 'QA Analyst', 'Data Architect', 'Business Systems Analyst', 'Biotech Analyst', 'Reporting Analyst', 'Growth Analyst, Sales & Marketing - Intern', 'Data Engineer II', 'Data Scientist', 'Analyst, Demand Planning', 'Manager Research Analyst', 'Analyst, Marketing Analytics & Insights', 'Materials Analyst', 'Workday HCM Reporting Analyst', 'Group Leader - Cell Biology']\n",
      "page: 4 -------------\n",
      "['QC Analyst', 'Senior Systems Analyst (Microsoft Dynamics 365)', 'Educational Data Scientist', 'Policy Analyst', 'Systems Analyst I - TELUS Health', 'Junior Analyst', 'Business Process Analyst', 'Business Systems Analyst', 'Reporting Analyst', 'Analyst- Securities Clearing- Securities Settlements', 'Manager, Software Development (Enterprise Core Systems)', 'Senior Information Security Analyst', 'Biotech Scientist', 'Data Scientist, Big Data', 'Research Analyst', 'Programmer Analyst', 'Product Analyst', 'Deputy Director - Principal Data Scientist', 'Data Scientist', 'Business analyst with Unitrax', 'Analyst, Security Operations', 'Investment Analyst - Fixed Income', 'Application Support Analyst', 'Risk Management Analyst', 'Sr. Technical Business Analyst', 'Data Engineer', 'Lab Technician, Pharmaceutical', 'Master Data Analyst', 'Pega Business Technology Analyst', 'Group Leader - Biopharmaceutical Services', 'Web Data Analyst', 'Actuarial Analyst II / Senior Actuarial Analyst', 'Clinical Data Management Senior Business Analyst', 'Senior Analyst, Credit Risk Modelling & Analytics', 'Sr. Data Analyst', 'Data Scientist', 'Technical Analyst', 'Reinsurance Annuity Analyst', 'Business Analyst / Systems Specialist (Student Information Systems)', 'Accounts Payable Analyst - 4+ Month Contract', 'Management information systems consultant', 'Workday analyst', 'Data & Analytics Lead', 'Business Analyst', 'QA Analyst', 'Data Architect', 'Business Systems Analyst', 'Biotech Analyst', 'Reporting Analyst', 'Growth Analyst, Sales & Marketing - Intern', 'Data Engineer II', 'Data Scientist', 'Analyst, Demand Planning', 'Manager Research Analyst', 'Analyst, Marketing Analytics & Insights', 'Materials Analyst', 'Workday HCM Reporting Analyst', 'Group Leader - Cell Biology', 'Group Leader - Biopharmaceutical Services', 'Web Data Analyst', 'Actuarial Analyst II / Senior Actuarial Analyst', 'Clinical Data Management Senior Business Analyst', 'Senior Analyst, Credit Risk Modelling & Analytics', 'Sr. Data Analyst', 'Data Scientist', 'Technical Analyst', 'Reinsurance Annuity Analyst', 'Business Analyst / Systems Specialist (Student Information Systems)', 'Accounts Payable Analyst - 4+ Month Contract', 'Management information systems consultant', 'Workday analyst', 'Data & Analytics Lead', 'Business Analyst', 'QA Analyst', 'Data Architect', 'Business Systems Analyst', 'Biotech Analyst', 'Reporting Analyst', 'Growth Analyst, Sales & Marketing - Intern', 'Data Engineer II', 'Data Scientist', 'Analyst, Demand Planning', 'Manager Research Analyst', 'Analyst, Marketing Analytics & Insights', 'Materials Analyst', 'Workday HCM Reporting Analyst', 'Group Leader - Cell Biology', 'Group Leader - Biopharmaceutical Services', 'Web Data Analyst', 'Actuarial Analyst II / Senior Actuarial Analyst', 'Clinical Data Management Senior Business Analyst', 'Senior Analyst, Credit Risk Modelling & Analytics', 'Sr. Data Analyst', 'Data Scientist', 'Technical Analyst', 'Reinsurance Annuity Analyst', 'Business Analyst / Systems Specialist (Student Information Systems)', 'Accounts Payable Analyst - 4+ Month Contract', 'Management information systems consultant', 'Workday analyst', 'Data & Analytics Lead', 'Business Analyst', 'QA Analyst', 'Data Architect', 'Business Systems Analyst', 'Biotech Analyst', 'Reporting Analyst', 'Growth Analyst, Sales & Marketing - Intern', 'Data Engineer II', 'Data Scientist', 'Analyst, Demand Planning', 'Manager Research Analyst', 'Analyst, Marketing Analytics & Insights', 'Materials Analyst', 'Workday HCM Reporting Analyst', 'Group Leader - Cell Biology']\n",
      "page: 5 -------------\n",
      "['QC Analyst', 'Senior Systems Analyst (Microsoft Dynamics 365)', 'Educational Data Scientist', 'Policy Analyst', 'Systems Analyst I - TELUS Health', 'Junior Analyst', 'Business Process Analyst', 'Business Systems Analyst', 'Reporting Analyst', 'Analyst- Securities Clearing- Securities Settlements', 'Manager, Software Development (Enterprise Core Systems)', 'Senior Information Security Analyst', 'Biotech Scientist', 'Data Scientist, Big Data', 'Research Analyst', 'Programmer Analyst', 'Product Analyst', 'Deputy Director - Principal Data Scientist', 'Data Scientist', 'Business analyst with Unitrax', 'Analyst, Security Operations', 'Investment Analyst - Fixed Income', 'Application Support Analyst', 'Risk Management Analyst', 'Sr. Technical Business Analyst', 'Data Engineer', 'Lab Technician, Pharmaceutical', 'Master Data Analyst', 'Pega Business Technology Analyst', 'Group Leader - Biopharmaceutical Services', 'Web Data Analyst', 'Actuarial Analyst II / Senior Actuarial Analyst', 'Clinical Data Management Senior Business Analyst', 'Senior Analyst, Credit Risk Modelling & Analytics', 'Sr. Data Analyst', 'Data Scientist', 'Technical Analyst', 'Reinsurance Annuity Analyst', 'Business Analyst / Systems Specialist (Student Information Systems)', 'Accounts Payable Analyst - 4+ Month Contract', 'Management information systems consultant', 'Workday analyst', 'Data & Analytics Lead', 'Business Analyst', 'QA Analyst', 'Data Architect', 'Business Systems Analyst', 'Biotech Analyst', 'Reporting Analyst', 'Growth Analyst, Sales & Marketing - Intern', 'Data Engineer II', 'Data Scientist', 'Analyst, Demand Planning', 'Manager Research Analyst', 'Analyst, Marketing Analytics & Insights', 'Materials Analyst', 'Workday HCM Reporting Analyst', 'Group Leader - Cell Biology', 'Group Leader - Biopharmaceutical Services', 'Web Data Analyst', 'Actuarial Analyst II / Senior Actuarial Analyst', 'Clinical Data Management Senior Business Analyst', 'Senior Analyst, Credit Risk Modelling & Analytics', 'Sr. Data Analyst', 'Data Scientist', 'Technical Analyst', 'Reinsurance Annuity Analyst', 'Business Analyst / Systems Specialist (Student Information Systems)', 'Accounts Payable Analyst - 4+ Month Contract', 'Management information systems consultant', 'Workday analyst', 'Data & Analytics Lead', 'Business Analyst', 'QA Analyst', 'Data Architect', 'Business Systems Analyst', 'Biotech Analyst', 'Reporting Analyst', 'Growth Analyst, Sales & Marketing - Intern', 'Data Engineer II', 'Data Scientist', 'Analyst, Demand Planning', 'Manager Research Analyst', 'Analyst, Marketing Analytics & Insights', 'Materials Analyst', 'Workday HCM Reporting Analyst', 'Group Leader - Cell Biology', 'Group Leader - Biopharmaceutical Services', 'Web Data Analyst', 'Actuarial Analyst II / Senior Actuarial Analyst', 'Clinical Data Management Senior Business Analyst', 'Senior Analyst, Credit Risk Modelling & Analytics', 'Sr. Data Analyst', 'Data Scientist', 'Technical Analyst', 'Reinsurance Annuity Analyst', 'Business Analyst / Systems Specialist (Student Information Systems)', 'Accounts Payable Analyst - 4+ Month Contract', 'Management information systems consultant', 'Workday analyst', 'Data & Analytics Lead', 'Business Analyst', 'QA Analyst', 'Data Architect', 'Business Systems Analyst', 'Biotech Analyst', 'Reporting Analyst', 'Growth Analyst, Sales & Marketing - Intern', 'Data Engineer II', 'Data Scientist', 'Analyst, Demand Planning', 'Manager Research Analyst', 'Analyst, Marketing Analytics & Insights', 'Materials Analyst', 'Workday HCM Reporting Analyst', 'Group Leader - Cell Biology', 'Group Leader - Biopharmaceutical Services', 'Web Data Analyst', 'Actuarial Analyst II / Senior Actuarial Analyst', 'Clinical Data Management Senior Business Analyst', 'Senior Analyst, Credit Risk Modelling & Analytics', 'Sr. Data Analyst', 'Data Scientist', 'Technical Analyst', 'Reinsurance Annuity Analyst', 'Business Analyst / Systems Specialist (Student Information Systems)', 'Accounts Payable Analyst - 4+ Month Contract', 'Management information systems consultant', 'Workday analyst', 'Data & Analytics Lead', 'Business Analyst', 'QA Analyst', 'Data Architect', 'Business Systems Analyst', 'Biotech Analyst', 'Reporting Analyst', 'Growth Analyst, Sales & Marketing - Intern', 'Data Engineer II', 'Data Scientist', 'Analyst, Demand Planning', 'Manager Research Analyst', 'Analyst, Marketing Analytics & Insights', 'Materials Analyst', 'Workday HCM Reporting Analyst', 'Group Leader - Cell Biology']\n"
     ]
    },
    {
     "name": "stdout",
     "output_type": "stream",
     "text": [
      "page: 6 -------------\n",
      "['QC Analyst', 'Senior Systems Analyst (Microsoft Dynamics 365)', 'Educational Data Scientist', 'Policy Analyst', 'Systems Analyst I - TELUS Health', 'Junior Analyst', 'Business Process Analyst', 'Business Systems Analyst', 'Reporting Analyst', 'Analyst- Securities Clearing- Securities Settlements', 'Manager, Software Development (Enterprise Core Systems)', 'Senior Information Security Analyst', 'Biotech Scientist', 'Data Scientist, Big Data', 'Research Analyst', 'Programmer Analyst', 'Product Analyst', 'Deputy Director - Principal Data Scientist', 'Data Scientist', 'Business analyst with Unitrax', 'Analyst, Security Operations', 'Investment Analyst - Fixed Income', 'Application Support Analyst', 'Risk Management Analyst', 'Sr. Technical Business Analyst', 'Data Engineer', 'Lab Technician, Pharmaceutical', 'Master Data Analyst', 'Pega Business Technology Analyst', 'Group Leader - Biopharmaceutical Services', 'Web Data Analyst', 'Actuarial Analyst II / Senior Actuarial Analyst', 'Clinical Data Management Senior Business Analyst', 'Senior Analyst, Credit Risk Modelling & Analytics', 'Sr. Data Analyst', 'Data Scientist', 'Technical Analyst', 'Reinsurance Annuity Analyst', 'Business Analyst / Systems Specialist (Student Information Systems)', 'Accounts Payable Analyst - 4+ Month Contract', 'Management information systems consultant', 'Workday analyst', 'Data & Analytics Lead', 'Business Analyst', 'QA Analyst', 'Data Architect', 'Business Systems Analyst', 'Biotech Analyst', 'Reporting Analyst', 'Growth Analyst, Sales & Marketing - Intern', 'Data Engineer II', 'Data Scientist', 'Analyst, Demand Planning', 'Manager Research Analyst', 'Analyst, Marketing Analytics & Insights', 'Materials Analyst', 'Workday HCM Reporting Analyst', 'Group Leader - Cell Biology', 'Group Leader - Biopharmaceutical Services', 'Web Data Analyst', 'Actuarial Analyst II / Senior Actuarial Analyst', 'Clinical Data Management Senior Business Analyst', 'Senior Analyst, Credit Risk Modelling & Analytics', 'Sr. Data Analyst', 'Data Scientist', 'Technical Analyst', 'Reinsurance Annuity Analyst', 'Business Analyst / Systems Specialist (Student Information Systems)', 'Accounts Payable Analyst - 4+ Month Contract', 'Management information systems consultant', 'Workday analyst', 'Data & Analytics Lead', 'Business Analyst', 'QA Analyst', 'Data Architect', 'Business Systems Analyst', 'Biotech Analyst', 'Reporting Analyst', 'Growth Analyst, Sales & Marketing - Intern', 'Data Engineer II', 'Data Scientist', 'Analyst, Demand Planning', 'Manager Research Analyst', 'Analyst, Marketing Analytics & Insights', 'Materials Analyst', 'Workday HCM Reporting Analyst', 'Group Leader - Cell Biology', 'Group Leader - Biopharmaceutical Services', 'Web Data Analyst', 'Actuarial Analyst II / Senior Actuarial Analyst', 'Clinical Data Management Senior Business Analyst', 'Senior Analyst, Credit Risk Modelling & Analytics', 'Sr. Data Analyst', 'Data Scientist', 'Technical Analyst', 'Reinsurance Annuity Analyst', 'Business Analyst / Systems Specialist (Student Information Systems)', 'Accounts Payable Analyst - 4+ Month Contract', 'Management information systems consultant', 'Workday analyst', 'Data & Analytics Lead', 'Business Analyst', 'QA Analyst', 'Data Architect', 'Business Systems Analyst', 'Biotech Analyst', 'Reporting Analyst', 'Growth Analyst, Sales & Marketing - Intern', 'Data Engineer II', 'Data Scientist', 'Analyst, Demand Planning', 'Manager Research Analyst', 'Analyst, Marketing Analytics & Insights', 'Materials Analyst', 'Workday HCM Reporting Analyst', 'Group Leader - Cell Biology', 'Group Leader - Biopharmaceutical Services', 'Web Data Analyst', 'Actuarial Analyst II / Senior Actuarial Analyst', 'Clinical Data Management Senior Business Analyst', 'Senior Analyst, Credit Risk Modelling & Analytics', 'Sr. Data Analyst', 'Data Scientist', 'Technical Analyst', 'Reinsurance Annuity Analyst', 'Business Analyst / Systems Specialist (Student Information Systems)', 'Accounts Payable Analyst - 4+ Month Contract', 'Management information systems consultant', 'Workday analyst', 'Data & Analytics Lead', 'Business Analyst', 'QA Analyst', 'Data Architect', 'Business Systems Analyst', 'Biotech Analyst', 'Reporting Analyst', 'Growth Analyst, Sales & Marketing - Intern', 'Data Engineer II', 'Data Scientist', 'Analyst, Demand Planning', 'Manager Research Analyst', 'Analyst, Marketing Analytics & Insights', 'Materials Analyst', 'Workday HCM Reporting Analyst', 'Group Leader - Cell Biology', 'Group Leader - Biopharmaceutical Services', 'Web Data Analyst', 'Actuarial Analyst II / Senior Actuarial Analyst', 'Clinical Data Management Senior Business Analyst', 'Senior Analyst, Credit Risk Modelling & Analytics', 'Sr. Data Analyst', 'Data Scientist', 'Technical Analyst', 'Reinsurance Annuity Analyst', 'Business Analyst / Systems Specialist (Student Information Systems)', 'Accounts Payable Analyst - 4+ Month Contract', 'Management information systems consultant', 'Workday analyst', 'Data & Analytics Lead', 'Business Analyst', 'QA Analyst', 'Data Architect', 'Business Systems Analyst', 'Biotech Analyst', 'Reporting Analyst', 'Growth Analyst, Sales & Marketing - Intern', 'Data Engineer II', 'Data Scientist', 'Analyst, Demand Planning', 'Manager Research Analyst', 'Analyst, Marketing Analytics & Insights', 'Materials Analyst', 'Workday HCM Reporting Analyst', 'Group Leader - Cell Biology']\n",
      "page: 7 -------------\n",
      "['QC Analyst', 'Senior Systems Analyst (Microsoft Dynamics 365)', 'Educational Data Scientist', 'Policy Analyst', 'Systems Analyst I - TELUS Health', 'Junior Analyst', 'Business Process Analyst', 'Business Systems Analyst', 'Reporting Analyst', 'Analyst- Securities Clearing- Securities Settlements', 'Manager, Software Development (Enterprise Core Systems)', 'Senior Information Security Analyst', 'Biotech Scientist', 'Data Scientist, Big Data', 'Research Analyst', 'Programmer Analyst', 'Product Analyst', 'Deputy Director - Principal Data Scientist', 'Data Scientist', 'Business analyst with Unitrax', 'Analyst, Security Operations', 'Investment Analyst - Fixed Income', 'Application Support Analyst', 'Risk Management Analyst', 'Sr. Technical Business Analyst', 'Data Engineer', 'Lab Technician, Pharmaceutical', 'Master Data Analyst', 'Pega Business Technology Analyst', 'Group Leader - Biopharmaceutical Services', 'Web Data Analyst', 'Actuarial Analyst II / Senior Actuarial Analyst', 'Clinical Data Management Senior Business Analyst', 'Senior Analyst, Credit Risk Modelling & Analytics', 'Sr. Data Analyst', 'Data Scientist', 'Technical Analyst', 'Reinsurance Annuity Analyst', 'Business Analyst / Systems Specialist (Student Information Systems)', 'Accounts Payable Analyst - 4+ Month Contract', 'Management information systems consultant', 'Workday analyst', 'Data & Analytics Lead', 'Business Analyst', 'QA Analyst', 'Data Architect', 'Business Systems Analyst', 'Biotech Analyst', 'Reporting Analyst', 'Growth Analyst, Sales & Marketing - Intern', 'Data Engineer II', 'Data Scientist', 'Analyst, Demand Planning', 'Manager Research Analyst', 'Analyst, Marketing Analytics & Insights', 'Materials Analyst', 'Workday HCM Reporting Analyst', 'Group Leader - Cell Biology', 'Group Leader - Biopharmaceutical Services', 'Web Data Analyst', 'Actuarial Analyst II / Senior Actuarial Analyst', 'Clinical Data Management Senior Business Analyst', 'Senior Analyst, Credit Risk Modelling & Analytics', 'Sr. Data Analyst', 'Data Scientist', 'Technical Analyst', 'Reinsurance Annuity Analyst', 'Business Analyst / Systems Specialist (Student Information Systems)', 'Accounts Payable Analyst - 4+ Month Contract', 'Management information systems consultant', 'Workday analyst', 'Data & Analytics Lead', 'Business Analyst', 'QA Analyst', 'Data Architect', 'Business Systems Analyst', 'Biotech Analyst', 'Reporting Analyst', 'Growth Analyst, Sales & Marketing - Intern', 'Data Engineer II', 'Data Scientist', 'Analyst, Demand Planning', 'Manager Research Analyst', 'Analyst, Marketing Analytics & Insights', 'Materials Analyst', 'Workday HCM Reporting Analyst', 'Group Leader - Cell Biology', 'Group Leader - Biopharmaceutical Services', 'Web Data Analyst', 'Actuarial Analyst II / Senior Actuarial Analyst', 'Clinical Data Management Senior Business Analyst', 'Senior Analyst, Credit Risk Modelling & Analytics', 'Sr. Data Analyst', 'Data Scientist', 'Technical Analyst', 'Reinsurance Annuity Analyst', 'Business Analyst / Systems Specialist (Student Information Systems)', 'Accounts Payable Analyst - 4+ Month Contract', 'Management information systems consultant', 'Workday analyst', 'Data & Analytics Lead', 'Business Analyst', 'QA Analyst', 'Data Architect', 'Business Systems Analyst', 'Biotech Analyst', 'Reporting Analyst', 'Growth Analyst, Sales & Marketing - Intern', 'Data Engineer II', 'Data Scientist', 'Analyst, Demand Planning', 'Manager Research Analyst', 'Analyst, Marketing Analytics & Insights', 'Materials Analyst', 'Workday HCM Reporting Analyst', 'Group Leader - Cell Biology', 'Group Leader - Biopharmaceutical Services', 'Web Data Analyst', 'Actuarial Analyst II / Senior Actuarial Analyst', 'Clinical Data Management Senior Business Analyst', 'Senior Analyst, Credit Risk Modelling & Analytics', 'Sr. Data Analyst', 'Data Scientist', 'Technical Analyst', 'Reinsurance Annuity Analyst', 'Business Analyst / Systems Specialist (Student Information Systems)', 'Accounts Payable Analyst - 4+ Month Contract', 'Management information systems consultant', 'Workday analyst', 'Data & Analytics Lead', 'Business Analyst', 'QA Analyst', 'Data Architect', 'Business Systems Analyst', 'Biotech Analyst', 'Reporting Analyst', 'Growth Analyst, Sales & Marketing - Intern', 'Data Engineer II', 'Data Scientist', 'Analyst, Demand Planning', 'Manager Research Analyst', 'Analyst, Marketing Analytics & Insights', 'Materials Analyst', 'Workday HCM Reporting Analyst', 'Group Leader - Cell Biology', 'Group Leader - Biopharmaceutical Services', 'Web Data Analyst', 'Actuarial Analyst II / Senior Actuarial Analyst', 'Clinical Data Management Senior Business Analyst', 'Senior Analyst, Credit Risk Modelling & Analytics', 'Sr. Data Analyst', 'Data Scientist', 'Technical Analyst', 'Reinsurance Annuity Analyst', 'Business Analyst / Systems Specialist (Student Information Systems)', 'Accounts Payable Analyst - 4+ Month Contract', 'Management information systems consultant', 'Workday analyst', 'Data & Analytics Lead', 'Business Analyst', 'QA Analyst', 'Data Architect', 'Business Systems Analyst', 'Biotech Analyst', 'Reporting Analyst', 'Growth Analyst, Sales & Marketing - Intern', 'Data Engineer II', 'Data Scientist', 'Analyst, Demand Planning', 'Manager Research Analyst', 'Analyst, Marketing Analytics & Insights', 'Materials Analyst', 'Workday HCM Reporting Analyst', 'Group Leader - Cell Biology', 'Group Leader - Biopharmaceutical Services', 'Web Data Analyst', 'Actuarial Analyst II / Senior Actuarial Analyst', 'Clinical Data Management Senior Business Analyst', 'Senior Analyst, Credit Risk Modelling & Analytics', 'Sr. Data Analyst', 'Data Scientist', 'Technical Analyst', 'Reinsurance Annuity Analyst', 'Business Analyst / Systems Specialist (Student Information Systems)', 'Accounts Payable Analyst - 4+ Month Contract', 'Management information systems consultant', 'Workday analyst', 'Data & Analytics Lead', 'Business Analyst', 'QA Analyst', 'Data Architect', 'Business Systems Analyst', 'Biotech Analyst', 'Reporting Analyst', 'Growth Analyst, Sales & Marketing - Intern', 'Data Engineer II', 'Data Scientist', 'Analyst, Demand Planning', 'Manager Research Analyst', 'Analyst, Marketing Analytics & Insights', 'Materials Analyst', 'Workday HCM Reporting Analyst', 'Group Leader - Cell Biology']\n"
     ]
    }
   ],
   "source": [
    "job_title=[]\n",
    "company_name=[]\n",
    "job_location=[]\n",
    "job_salary = []\n",
    "job_summary = []\n",
    "for x in range(1, 8):\n",
    "    \n",
    "    html = browser.html\n",
    "    soup = BeautifulSoup(html, 'html.parser')\n",
    "    \n",
    "    job_postings = soup.find_all('article', class_='JobCard')\n",
    "    \n",
    "    print('page:', x, '-------------')\n",
    "    \n",
    "    for posting in job_postings:\n",
    "        title = posting.find('h2', class_='JobCard-title')\n",
    "        job_title.append(title['title'])\n",
    "\n",
    "        company = posting.find('div', class_='JobCard-property JobCard-company').find('span').text\n",
    "        company_name.append(company)\n",
    "\n",
    "        location1 = posting.find('span', class_='JobCard-property JobCard-location').find('span').text\n",
    "        location = location1.split('\\xa0—\\xa0')[1]\n",
    "        job_location.append(location)\n",
    "        try:\n",
    "            salary = posting.find('span', class_='Salary').text\n",
    "            job_salary.append(salary)\n",
    "        except AttributeError:\n",
    "            salary = posting.find('span', class_='Salary')\n",
    "            job_salary.append(salary)\n",
    "\n",
    "        summary = posting.find('div', class_='JobCard-snippet').text\n",
    "        job_summary.append(summary)\n",
    "    \n",
    "    browser.find_by_css('.Pagination-link--next').click()\n",
    "    print(job_title)"
   ]
  },
  {
   "cell_type": "code",
   "execution_count": 267,
   "metadata": {},
   "outputs": [
    {
     "data": {
      "text/plain": [
       "203"
      ]
     },
     "execution_count": 267,
     "metadata": {},
     "output_type": "execute_result"
    }
   ],
   "source": [
    "len(job_title)\n",
    "len(company_name)\n",
    "len(job_location)\n",
    "len(job_salary)\n",
    "len(job_summary)"
   ]
  },
  {
   "cell_type": "code",
   "execution_count": 269,
   "metadata": {},
   "outputs": [
    {
     "data": {
      "text/plain": [
       "203"
      ]
     },
     "execution_count": 269,
     "metadata": {},
     "output_type": "execute_result"
    }
   ],
   "source": [
    "ids= np.arange(1,jobs)\n",
    "len(ids)"
   ]
  },
  {
   "cell_type": "code",
   "execution_count": 271,
   "metadata": {},
   "outputs": [],
   "source": [
    "# Put info into table\n",
    "workopolis=pd.DataFrame({'id':ids,\n",
    "                        'job_title':job_title,\n",
    "                        'company_name':company_name,\n",
    "                        'job_location':job_location,\n",
    "                        'job_salary':job_salary,\n",
    "                        'job_summary':job_summary})"
   ]
  },
  {
   "cell_type": "code",
   "execution_count": 272,
   "metadata": {},
   "outputs": [],
   "source": [
    "workopolis.set_index('id', inplace=True)"
   ]
  },
  {
   "cell_type": "code",
   "execution_count": 273,
   "metadata": {},
   "outputs": [
    {
     "data": {
      "text/html": [
       "<div>\n",
       "<style scoped>\n",
       "    .dataframe tbody tr th:only-of-type {\n",
       "        vertical-align: middle;\n",
       "    }\n",
       "\n",
       "    .dataframe tbody tr th {\n",
       "        vertical-align: top;\n",
       "    }\n",
       "\n",
       "    .dataframe thead th {\n",
       "        text-align: right;\n",
       "    }\n",
       "</style>\n",
       "<table border=\"1\" class=\"dataframe\">\n",
       "  <thead>\n",
       "    <tr style=\"text-align: right;\">\n",
       "      <th></th>\n",
       "      <th>job_title</th>\n",
       "      <th>company_name</th>\n",
       "      <th>job_location</th>\n",
       "      <th>job_salary</th>\n",
       "      <th>job_summary</th>\n",
       "    </tr>\n",
       "    <tr>\n",
       "      <th>id</th>\n",
       "      <th></th>\n",
       "      <th></th>\n",
       "      <th></th>\n",
       "      <th></th>\n",
       "      <th></th>\n",
       "    </tr>\n",
       "  </thead>\n",
       "  <tbody>\n",
       "    <tr>\n",
       "      <td>1</td>\n",
       "      <td>QC Analyst</td>\n",
       "      <td>SGS Canada</td>\n",
       "      <td>Mississauga, ON</td>\n",
       "      <td>Estimated: $41,000 - $52,000 a year</td>\n",
       "      <td>Quality Control Analyst Type of employment: Re...</td>\n",
       "    </tr>\n",
       "    <tr>\n",
       "      <td>2</td>\n",
       "      <td>Senior Systems Analyst (Microsoft Dynamics 365)</td>\n",
       "      <td>goeasy</td>\n",
       "      <td>Mississauga, ON</td>\n",
       "      <td>Estimated: $73,000 - $110,000 a year</td>\n",
       "      <td>If you are looking to join one of Canada’s fas...</td>\n",
       "    </tr>\n",
       "    <tr>\n",
       "      <td>3</td>\n",
       "      <td>Educational Data Scientist</td>\n",
       "      <td>Prodigy Game</td>\n",
       "      <td>Oakville, ON</td>\n",
       "      <td>Estimated: $54,000 - $69,000 a year</td>\n",
       "      <td>Prodigy Education connects students, parents, ...</td>\n",
       "    </tr>\n",
       "    <tr>\n",
       "      <td>4</td>\n",
       "      <td>Policy Analyst</td>\n",
       "      <td>Ontario Native Women's Association</td>\n",
       "      <td>Toronto, ON</td>\n",
       "      <td>$65,000 - $82,000 a year</td>\n",
       "      <td>ONWA MANDATE The Ontario Native Women’s Associ...</td>\n",
       "    </tr>\n",
       "    <tr>\n",
       "      <td>5</td>\n",
       "      <td>Systems Analyst I - TELUS Health</td>\n",
       "      <td>TELUS Communications</td>\n",
       "      <td>Toronto, ON</td>\n",
       "      <td>Estimated: $63,000 - $86,000 a year</td>\n",
       "      <td>Ready to create innovative solutions? Join our...</td>\n",
       "    </tr>\n",
       "    <tr>\n",
       "      <td>...</td>\n",
       "      <td>...</td>\n",
       "      <td>...</td>\n",
       "      <td>...</td>\n",
       "      <td>...</td>\n",
       "      <td>...</td>\n",
       "    </tr>\n",
       "    <tr>\n",
       "      <td>199</td>\n",
       "      <td>Manager Research Analyst</td>\n",
       "      <td>Sei</td>\n",
       "      <td>Toronto, ON</td>\n",
       "      <td>Estimated: $69,000 - $100,000 a year</td>\n",
       "      <td>When you step into SEI – anywhere in the world...</td>\n",
       "    </tr>\n",
       "    <tr>\n",
       "      <td>200</td>\n",
       "      <td>Analyst, Marketing Analytics &amp; Insights</td>\n",
       "      <td>Points International</td>\n",
       "      <td>Toronto, ON</td>\n",
       "      <td>Estimated: $72,000 - $97,000 a year</td>\n",
       "      <td>Company Description We’re a technology company...</td>\n",
       "    </tr>\n",
       "    <tr>\n",
       "      <td>201</td>\n",
       "      <td>Materials Analyst</td>\n",
       "      <td>State Window Corporation</td>\n",
       "      <td>Vaughan, ON</td>\n",
       "      <td>Estimated: $49,000 - $71,000 a year</td>\n",
       "      <td>State Window Corporation is a PROFIT 500 manuf...</td>\n",
       "    </tr>\n",
       "    <tr>\n",
       "      <td>202</td>\n",
       "      <td>Workday HCM Reporting Analyst</td>\n",
       "      <td>Bevertec CST Inc</td>\n",
       "      <td>Vaughan, ON</td>\n",
       "      <td>Estimated: $57,000 - $81,000 a year</td>\n",
       "      <td>We are looking for Workday HCM Reporting Analy...</td>\n",
       "    </tr>\n",
       "    <tr>\n",
       "      <td>203</td>\n",
       "      <td>Group Leader - Cell Biology</td>\n",
       "      <td>SGS Canada</td>\n",
       "      <td>Mississauga, ON</td>\n",
       "      <td>Estimated: $49,000 - $71,000 a year</td>\n",
       "      <td>*Type of employment: * Regular Business Line: ...</td>\n",
       "    </tr>\n",
       "  </tbody>\n",
       "</table>\n",
       "<p>203 rows × 5 columns</p>\n",
       "</div>"
      ],
      "text/plain": [
       "                                           job_title  \\\n",
       "id                                                     \n",
       "1                                         QC Analyst   \n",
       "2    Senior Systems Analyst (Microsoft Dynamics 365)   \n",
       "3                         Educational Data Scientist   \n",
       "4                                     Policy Analyst   \n",
       "5                   Systems Analyst I - TELUS Health   \n",
       "..                                               ...   \n",
       "199                         Manager Research Analyst   \n",
       "200          Analyst, Marketing Analytics & Insights   \n",
       "201                                Materials Analyst   \n",
       "202                    Workday HCM Reporting Analyst   \n",
       "203                      Group Leader - Cell Biology   \n",
       "\n",
       "                           company_name     job_location  \\\n",
       "id                                                         \n",
       "1                            SGS Canada  Mississauga, ON   \n",
       "2                                goeasy  Mississauga, ON   \n",
       "3                          Prodigy Game     Oakville, ON   \n",
       "4    Ontario Native Women's Association      Toronto, ON   \n",
       "5                  TELUS Communications      Toronto, ON   \n",
       "..                                  ...              ...   \n",
       "199                                 Sei      Toronto, ON   \n",
       "200                Points International      Toronto, ON   \n",
       "201            State Window Corporation      Vaughan, ON   \n",
       "202                    Bevertec CST Inc      Vaughan, ON   \n",
       "203                          SGS Canada  Mississauga, ON   \n",
       "\n",
       "                               job_salary  \\\n",
       "id                                          \n",
       "1     Estimated: $41,000 - $52,000 a year   \n",
       "2    Estimated: $73,000 - $110,000 a year   \n",
       "3     Estimated: $54,000 - $69,000 a year   \n",
       "4                $65,000 - $82,000 a year   \n",
       "5     Estimated: $63,000 - $86,000 a year   \n",
       "..                                    ...   \n",
       "199  Estimated: $69,000 - $100,000 a year   \n",
       "200   Estimated: $72,000 - $97,000 a year   \n",
       "201   Estimated: $49,000 - $71,000 a year   \n",
       "202   Estimated: $57,000 - $81,000 a year   \n",
       "203   Estimated: $49,000 - $71,000 a year   \n",
       "\n",
       "                                           job_summary  \n",
       "id                                                      \n",
       "1    Quality Control Analyst Type of employment: Re...  \n",
       "2    If you are looking to join one of Canada’s fas...  \n",
       "3    Prodigy Education connects students, parents, ...  \n",
       "4    ONWA MANDATE The Ontario Native Women’s Associ...  \n",
       "5    Ready to create innovative solutions? Join our...  \n",
       "..                                                 ...  \n",
       "199  When you step into SEI – anywhere in the world...  \n",
       "200  Company Description We’re a technology company...  \n",
       "201  State Window Corporation is a PROFIT 500 manuf...  \n",
       "202  We are looking for Workday HCM Reporting Analy...  \n",
       "203  *Type of employment: * Regular Business Line: ...  \n",
       "\n",
       "[203 rows x 5 columns]"
      ]
     },
     "execution_count": 273,
     "metadata": {},
     "output_type": "execute_result"
    }
   ],
   "source": [
    "workopolis"
   ]
  },
  {
   "cell_type": "code",
   "execution_count": 274,
   "metadata": {},
   "outputs": [],
   "source": [
    "connection_string = \"postgres:chimps@localhost:5432/jobposting_db\"\n",
    "engine = create_engine(f'postgresql://{connection_string}')"
   ]
  },
  {
   "cell_type": "code",
   "execution_count": 275,
   "metadata": {},
   "outputs": [
    {
     "data": {
      "text/plain": [
       "['workopolis_postings']"
      ]
     },
     "execution_count": 275,
     "metadata": {},
     "output_type": "execute_result"
    }
   ],
   "source": [
    "# Confirm tables\n",
    "engine.table_names()"
   ]
  },
  {
   "cell_type": "code",
   "execution_count": 276,
   "metadata": {},
   "outputs": [],
   "source": [
    "workopolis.to_sql(name='workopolis_postings', con=engine, if_exists='append', index=True)"
   ]
  },
  {
   "cell_type": "code",
   "execution_count": null,
   "metadata": {},
   "outputs": [],
   "source": []
  }
 ],
 "metadata": {
  "kernelspec": {
   "display_name": "Python 3",
   "language": "python",
   "name": "python3"
  },
  "language_info": {
   "codemirror_mode": {
    "name": "ipython",
    "version": 3
   },
   "file_extension": ".py",
   "mimetype": "text/x-python",
   "name": "python",
   "nbconvert_exporter": "python",
   "pygments_lexer": "ipython3",
   "version": "3.7.4"
  }
 },
 "nbformat": 4,
 "nbformat_minor": 2
}
